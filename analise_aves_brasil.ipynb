{
  "nbformat": 4,
  "nbformat_minor": 0,
  "metadata": {
    "colab": {
      "provenance": []
    },
    "kernelspec": {
      "name": "python3",
      "display_name": "Python 3"
    },
    "language_info": {
      "name": "python"
    }
  },
  "cells": [
    {
      "cell_type": "code",
      "execution_count": 70,
      "metadata": {
        "id": "1q7-ag1oLvYq"
      },
      "outputs": [],
      "source": [
        "from bs4 import BeautifulSoup\n",
        "import requests\n",
        "import pandas as pd\n",
        "import gspread\n",
        "from google.colab import auth\n",
        "\n",
        "#First Authenticate google colab\n",
        "auth.authenticate_user()\n",
        "\n",
        "#Authenticate google sheet\n",
        "from google.auth import default\n",
        "creds, _ = default()\n",
        "\n",
        "gs = gspread.authorize(creds)\n",
        "\n",
        "#Get google sheet\n",
        "sh = gs.open(\"Dados compilados sobre aves catalogadas no Brasil\")\n",
        "sh_regions = sh.worksheet(\"Regiões com espécies em comum com o Brasil\")\n",
        "sh_birds = sh.worksheet(\"Espécies de aves no Brasil\")\n",
        "sh_birds_states = sh.worksheet(\"Espécies de aves por estado do Brasil\")\n",
        "sh_brazil_states = sh.worksheet(\"Estados\")"
      ]
    },
    {
      "cell_type": "markdown",
      "source": [
        "# **Regiões do mundo com espécies em comum com o Brasil**"
      ],
      "metadata": {
        "id": "AWdiuMLcZO1U"
      }
    },
    {
      "cell_type": "code",
      "source": [
        "#Extract html\n",
        "page_regions = requests.get('https://avibase.bsc-eoc.org/compare_regions.jsp?region=BR&list=clements')\n",
        "bs = BeautifulSoup(page_regions.text, 'html.parser')"
      ],
      "metadata": {
        "id": "AqZx_YhEVPGW"
      },
      "execution_count": null,
      "outputs": []
    },
    {
      "cell_type": "code",
      "source": [
        "#Transform table into list\n",
        "tb_regions = bs.find(attrs={'id':'compareRegions'}).find_all('tbody')[0].find_all('tr')\n",
        "tb_regions = [ [td.string for td in tr.find_all('td')] for tr in tb_regions]\n",
        "\n",
        "tb_regions_headers = bs.find(attrs={'id':'compareRegions'}).find('thead').find('tr').find_all('th')\n",
        "tb_regions_headers = [ x.string for x in tb_regions_headers ]\n",
        "\n",
        "tb_regions = [tb_regions_headers] + tb_regions"
      ],
      "metadata": {
        "id": "U921A-R1a2Vj"
      },
      "execution_count": null,
      "outputs": []
    },
    {
      "cell_type": "code",
      "source": [
        "#Filter columns with pandas\n",
        "df = pd.DataFrame(tb_regions[1:], columns=tb_regions[0])\n",
        "\n",
        "df = df[['Region2','Shared','% shared/region1','%shared/region2']]\n",
        "\n",
        "df[['Shared','% shared/region1','%shared/region2']].apply(pd.to_numeric)\n",
        "\n",
        "data = df.fillna(-1).values.tolist()"
      ],
      "metadata": {
        "id": "eCrjEp-Fe5YZ"
      },
      "execution_count": null,
      "outputs": []
    },
    {
      "cell_type": "code",
      "source": [
        "#Update Google sheet\n",
        "sh_regions.append_rows(data,table_range='A2')"
      ],
      "metadata": {
        "colab": {
          "base_uri": "https://localhost:8080/"
        },
        "id": "tyWiKwSxjRdz",
        "outputId": "b2d61476-8a5c-4655-e3e5-f1b010696e09"
      },
      "execution_count": null,
      "outputs": [
        {
          "output_type": "execute_result",
          "data": {
            "text/plain": [
              "{'spreadsheetId': '1jkUNttrcJa_U75cVSiNhHXGSfWZbFmdK8E5CcJb7XMM',\n",
              " 'updates': {'spreadsheetId': '1jkUNttrcJa_U75cVSiNhHXGSfWZbFmdK8E5CcJb7XMM',\n",
              "  'updatedRange': \"'Regiões com espécies em comum com o Brasil'!A2:D243\",\n",
              "  'updatedRows': 242,\n",
              "  'updatedColumns': 4,\n",
              "  'updatedCells': 968}}"
            ]
          },
          "metadata": {},
          "execution_count": 52
        }
      ]
    },
    {
      "cell_type": "markdown",
      "source": [
        "# **Espécies de aves por estados do Brasil**"
      ],
      "metadata": {
        "id": "wcjBlCcC8wyi"
      }
    },
    {
      "cell_type": "code",
      "source": [
        "states = sh_brazil_states.col_values(1)[1:] # codes of states\n",
        "birds = [['Nome científico', 'Nome popular', 'Família', 'Situação', 'Estado']]\n",
        "\n",
        "for state in states:\n",
        "  # Extract html of each state\n",
        "  page = requests.get(f\"https://avibase.bsc-eoc.org/checklist.jsp?region=BR{state}\")\n",
        "  bs = BeautifulSoup(page.text, 'html.parser')\n",
        "\n",
        "  # transform table into lists and append to birds\n",
        "  if bs.find('table'):\n",
        "    tb = bs.find('table').find_all('tr')\n",
        "\n",
        "    family = ''\n",
        "    for row in tb:\n",
        "      if row.has_attr('valign'):\n",
        "        family = row.find(\"td\").get_text().strip()\n",
        "      else:\n",
        "        row_content = [ col.get_text().strip() for col in row.find_all('td') ]\n",
        "        row_content.insert(2,family)\n",
        "        row_content.append(state)\n",
        "        birds.append(row_content)"
      ],
      "metadata": {
        "id": "jkRz9La8o7pa"
      },
      "execution_count": 68,
      "outputs": []
    },
    {
      "cell_type": "code",
      "source": [
        "# Filter columns with pandas\n",
        "df = pd.DataFrame(birds[1:], columns=birds[0])\n",
        "\n",
        "df_birds = df[['Nome científico', 'Nome popular', 'Família']].drop_duplicates()\n",
        "df_birds_states = df[['Nome científico','Estado','Situação']].drop_duplicates()\n",
        "\n",
        "data_birds = df_birds.fillna(-1).values.tolist()\n",
        "data_birds_states = df_birds_states.fillna(-1).values.tolist()"
      ],
      "metadata": {
        "id": "McDo5q-VcraF"
      },
      "execution_count": 71,
      "outputs": []
    },
    {
      "cell_type": "code",
      "source": [
        "# Update Google sheet\n",
        "sh_birds.append_rows(data_birds,table_range='A2')\n",
        "sh_birds_states.append_rows(data_birds_states,table_range='A2')"
      ],
      "metadata": {
        "colab": {
          "base_uri": "https://localhost:8080/"
        },
        "id": "rZUd1iTrH9vc",
        "outputId": "80eba996-1945-4c95-b4d5-87bd64e947e7"
      },
      "execution_count": 72,
      "outputs": [
        {
          "output_type": "execute_result",
          "data": {
            "text/plain": [
              "{'spreadsheetId': '1jkUNttrcJa_U75cVSiNhHXGSfWZbFmdK8E5CcJb7XMM',\n",
              " 'updates': {'spreadsheetId': '1jkUNttrcJa_U75cVSiNhHXGSfWZbFmdK8E5CcJb7XMM',\n",
              "  'updatedRange': \"'Espécies de aves por estado do Brasil'!A2:C16735\",\n",
              "  'updatedRows': 16734,\n",
              "  'updatedColumns': 3,\n",
              "  'updatedCells': 50202}}"
            ]
          },
          "metadata": {},
          "execution_count": 72
        }
      ]
    }
  ]
}