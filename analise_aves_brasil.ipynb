{
  "nbformat": 4,
  "nbformat_minor": 0,
  "metadata": {
    "colab": {
      "provenance": []
    },
    "kernelspec": {
      "name": "python3",
      "display_name": "Python 3"
    },
    "language_info": {
      "name": "python"
    }
  },
  "cells": [
    {
      "cell_type": "code",
      "execution_count": 104,
      "metadata": {
        "id": "1q7-ag1oLvYq",
        "colab": {
          "base_uri": "https://localhost:8080/"
        },
        "outputId": "03c47dfa-0147-47a4-b0eb-268ba2bc72f4"
      },
      "outputs": [
        {
          "output_type": "stream",
          "name": "stdout",
          "text": [
            "Requirement already satisfied: gspread in /usr/local/lib/python3.10/dist-packages (3.4.2)\n",
            "Collecting gspread\n",
            "  Downloading gspread-6.0.2-py3-none-any.whl (53 kB)\n",
            "\u001b[2K     \u001b[90m━━━━━━━━━━━━━━━━━━━━━━━━━━━━━━━━━━━━━━━━\u001b[0m \u001b[32m53.9/53.9 kB\u001b[0m \u001b[31m968.1 kB/s\u001b[0m eta \u001b[36m0:00:00\u001b[0m\n",
            "\u001b[?25hRequirement already satisfied: google-auth>=1.12.0 in /usr/local/lib/python3.10/dist-packages (from gspread) (2.27.0)\n",
            "Requirement already satisfied: google-auth-oauthlib>=0.4.1 in /usr/local/lib/python3.10/dist-packages (from gspread) (1.2.0)\n",
            "Collecting StrEnum==0.4.15 (from gspread)\n",
            "  Downloading StrEnum-0.4.15-py3-none-any.whl (8.9 kB)\n",
            "Requirement already satisfied: cachetools<6.0,>=2.0.0 in /usr/local/lib/python3.10/dist-packages (from google-auth>=1.12.0->gspread) (5.3.2)\n",
            "Requirement already satisfied: pyasn1-modules>=0.2.1 in /usr/local/lib/python3.10/dist-packages (from google-auth>=1.12.0->gspread) (0.3.0)\n",
            "Requirement already satisfied: rsa<5,>=3.1.4 in /usr/local/lib/python3.10/dist-packages (from google-auth>=1.12.0->gspread) (4.9)\n",
            "Requirement already satisfied: requests-oauthlib>=0.7.0 in /usr/local/lib/python3.10/dist-packages (from google-auth-oauthlib>=0.4.1->gspread) (1.3.1)\n",
            "Requirement already satisfied: pyasn1<0.6.0,>=0.4.6 in /usr/local/lib/python3.10/dist-packages (from pyasn1-modules>=0.2.1->google-auth>=1.12.0->gspread) (0.5.1)\n",
            "Requirement already satisfied: oauthlib>=3.0.0 in /usr/local/lib/python3.10/dist-packages (from requests-oauthlib>=0.7.0->google-auth-oauthlib>=0.4.1->gspread) (3.2.2)\n",
            "Requirement already satisfied: requests>=2.0.0 in /usr/local/lib/python3.10/dist-packages (from requests-oauthlib>=0.7.0->google-auth-oauthlib>=0.4.1->gspread) (2.31.0)\n",
            "Requirement already satisfied: charset-normalizer<4,>=2 in /usr/local/lib/python3.10/dist-packages (from requests>=2.0.0->requests-oauthlib>=0.7.0->google-auth-oauthlib>=0.4.1->gspread) (3.3.2)\n",
            "Requirement already satisfied: idna<4,>=2.5 in /usr/local/lib/python3.10/dist-packages (from requests>=2.0.0->requests-oauthlib>=0.7.0->google-auth-oauthlib>=0.4.1->gspread) (3.6)\n",
            "Requirement already satisfied: urllib3<3,>=1.21.1 in /usr/local/lib/python3.10/dist-packages (from requests>=2.0.0->requests-oauthlib>=0.7.0->google-auth-oauthlib>=0.4.1->gspread) (2.0.7)\n",
            "Requirement already satisfied: certifi>=2017.4.17 in /usr/local/lib/python3.10/dist-packages (from requests>=2.0.0->requests-oauthlib>=0.7.0->google-auth-oauthlib>=0.4.1->gspread) (2024.2.2)\n",
            "Installing collected packages: StrEnum, gspread\n",
            "  Attempting uninstall: gspread\n",
            "    Found existing installation: gspread 3.4.2\n",
            "    Uninstalling gspread-3.4.2:\n",
            "      Successfully uninstalled gspread-3.4.2\n",
            "Successfully installed StrEnum-0.4.15 gspread-6.0.2\n"
          ]
        }
      ],
      "source": [
        "!pip install --upgrade gspread\n",
        "\n",
        "from bs4 import BeautifulSoup\n",
        "import requests\n",
        "import pandas as pd\n",
        "import gspread\n",
        "from google.colab import auth\n",
        "\n",
        "#First Authenticate google colab\n",
        "auth.authenticate_user()\n",
        "\n",
        "#Authenticate google sheet\n",
        "from google.auth import default\n",
        "creds, _ = default()\n",
        "\n",
        "gs = gspread.authorize(creds)\n",
        "\n",
        "#Get google sheet\n",
        "sh = gs.open(\"Dados compilados sobre aves catalogadas no Brasil\")\n",
        "sh_regions = sh.worksheet(\"Regiões com espécies em comum com o Brasil\")\n",
        "sh_birds = sh.worksheet(\"Espécies de aves no Brasil\")\n",
        "sh_birds_states = sh.worksheet(\"Espécies de aves por estado do Brasil\")\n",
        "sh_brazil_states = sh.worksheet(\"Estados\")"
      ]
    },
    {
      "cell_type": "markdown",
      "source": [
        "# **Regiões do mundo com espécies em comum com o Brasil**"
      ],
      "metadata": {
        "id": "AWdiuMLcZO1U"
      }
    },
    {
      "cell_type": "code",
      "source": [
        "#Extract html\n",
        "page_regions = requests.get('https://avibase.bsc-eoc.org/compare_regions.jsp?region=BR&list=clements')\n",
        "bs = BeautifulSoup(page_regions.text, 'html.parser')"
      ],
      "metadata": {
        "id": "AqZx_YhEVPGW"
      },
      "execution_count": 105,
      "outputs": []
    },
    {
      "cell_type": "code",
      "source": [
        "#Transform table into list\n",
        "tb_regions = bs.find(attrs={'id':'compareRegions'}).find_all('tbody')[0].find_all('tr')\n",
        "tb_regions = [ [td.string for td in tr.find_all('td')] for tr in tb_regions]\n",
        "\n",
        "tb_regions_headers = bs.find(attrs={'id':'compareRegions'}).find('thead').find('tr').find_all('th')\n",
        "tb_regions_headers = [ x.string for x in tb_regions_headers ]\n",
        "\n",
        "tb_regions = [tb_regions_headers] + tb_regions"
      ],
      "metadata": {
        "id": "U921A-R1a2Vj"
      },
      "execution_count": 106,
      "outputs": []
    },
    {
      "cell_type": "code",
      "source": [
        "#Filter columns with pandas\n",
        "df = pd.DataFrame(tb_regions[1:], columns=tb_regions[0])\n",
        "\n",
        "df = df[['Region2','Shared','% shared/region1','%shared/region2']]\n",
        "\n",
        "df[['Shared','% shared/region1','%shared/region2']] = df[['Shared','% shared/region1','%shared/region2']].apply(pd.to_numeric)\n",
        "\n",
        "df = df.rename(columns={\n",
        "                        'Region2': 'Região',\n",
        "                        'Shared': 'Aves em comum',\n",
        "                        '% shared/region1': '% Aves em comum/Total do Brasil',\n",
        "                        '%shared/region2': '% Aves em comum/Total da Região'\n",
        "                        })\n",
        "\n",
        "data = [df.columns.values.tolist()] + df.fillna(-1).values.tolist()"
      ],
      "metadata": {
        "id": "eCrjEp-Fe5YZ"
      },
      "execution_count": 120,
      "outputs": []
    },
    {
      "cell_type": "code",
      "source": [
        "# Calculate data dimension\n",
        "num_lines = len(data)\n",
        "num_cols = len(data[0])\n",
        "\n",
        "# Calculate sheet interval\n",
        "range_sheet = f'A1:{chr(ord(\"A\") + num_cols - 1)}{num_lines}'\n",
        "\n",
        "# Update Google sheet\n",
        "sh_regions.clear()\n",
        "sh_regions.update(range_sheet, data)"
      ],
      "metadata": {
        "colab": {
          "base_uri": "https://localhost:8080/"
        },
        "id": "tyWiKwSxjRdz",
        "outputId": "ebef266d-8c2f-4b52-af19-a29339a8a42c"
      },
      "execution_count": 121,
      "outputs": [
        {
          "output_type": "execute_result",
          "data": {
            "text/plain": [
              "{'spreadsheetId': '1jkUNttrcJa_U75cVSiNhHXGSfWZbFmdK8E5CcJb7XMM',\n",
              " 'updatedRange': \"'Regiões com espécies em comum com o Brasil'!A1:D243\",\n",
              " 'updatedRows': 243,\n",
              " 'updatedColumns': 4,\n",
              " 'updatedCells': 972}"
            ]
          },
          "metadata": {},
          "execution_count": 121
        }
      ]
    },
    {
      "cell_type": "markdown",
      "source": [
        "# **Espécies de aves por estados do Brasil**"
      ],
      "metadata": {
        "id": "wcjBlCcC8wyi"
      }
    },
    {
      "cell_type": "code",
      "source": [
        "states = sh_brazil_states.col_values(1)[1:] # codes of states\n",
        "states_codes = sh_brazil_states.col_values(4)[1:]\n",
        "\n",
        "birds = [['Nome científico', 'Nome popular', 'Família', 'Situação', 'Estado']]\n",
        "\n",
        "for i, state in enumerate(states):\n",
        "  # Extract html of each state\n",
        "  page = requests.get(f\"https://avibase.bsc-eoc.org/checklist.jsp?region=BR{states_codes[i]}\")\n",
        "  bs = BeautifulSoup(page.text, 'html.parser')\n",
        "\n",
        "  # transform table into lists and append to birds\n",
        "  if bs.find('table'):\n",
        "    tb = bs.find('table').find_all('tr')\n",
        "\n",
        "    family = ''\n",
        "    for row in tb:\n",
        "      if row.has_attr('valign'):\n",
        "        family = row.find(\"td\").get_text().strip()\n",
        "      else:\n",
        "        row_content = [ col.get_text().strip() for col in row.find_all('td') ]\n",
        "        row_content.insert(2,family)\n",
        "        row_content.append(state)\n",
        "        birds.append(row_content)"
      ],
      "metadata": {
        "id": "jkRz9La8o7pa"
      },
      "execution_count": 117,
      "outputs": []
    },
    {
      "cell_type": "code",
      "source": [
        "# Filter columns with pandas\n",
        "df = pd.DataFrame(birds[1:], columns=birds[0])\n",
        "\n",
        "df_birds = df[['Nome científico', 'Nome popular', 'Família']].drop_duplicates()\n",
        "df_birds_states = df[['Nome científico','Estado','Situação']].drop_duplicates()\n",
        "\n",
        "df_birds_states.Estado = df_birds_states.Estado\n",
        "\n",
        "data_birds = [df_birds.columns.values.tolist()] + df_birds.fillna(-1).values.tolist()\n",
        "data_birds_states = [df_birds_states.columns.values.tolist()] + df_birds_states.fillna(-1).values.tolist()"
      ],
      "metadata": {
        "id": "McDo5q-VcraF"
      },
      "execution_count": 118,
      "outputs": []
    },
    {
      "cell_type": "code",
      "source": [
        "# Calculate data dimension\n",
        "num_lines = len(data_birds)\n",
        "num_cols = len(data_birds[0])\n",
        "\n",
        "# Calculate sheet interval\n",
        "range_sheet = f'A1:{chr(ord(\"A\") + num_cols - 1)}{num_lines}'\n",
        "\n",
        "# Update Google sheet\n",
        "sh_birds.clear()\n",
        "sh_birds.update(range_sheet, data_birds)\n",
        "\n",
        "\n",
        "# Calculate data dimension\n",
        "num_lines = len(data_birds_states)\n",
        "num_cols = len(data_birds_states[0])\n",
        "\n",
        "# Calculate sheet interval\n",
        "range_sheet = f'A1:{chr(ord(\"A\") + num_cols - 1)}{num_lines}'\n",
        "\n",
        "# Update Google sheet\n",
        "sh_birds_states.clear()\n",
        "sh_birds_states.update(range_sheet, data_birds_states)"
      ],
      "metadata": {
        "colab": {
          "base_uri": "https://localhost:8080/"
        },
        "id": "rZUd1iTrH9vc",
        "outputId": "a8ba7c9e-d7fc-4e16-b3ad-6bcbd5a9b424"
      },
      "execution_count": 119,
      "outputs": [
        {
          "output_type": "execute_result",
          "data": {
            "text/plain": [
              "{'spreadsheetId': '1jkUNttrcJa_U75cVSiNhHXGSfWZbFmdK8E5CcJb7XMM',\n",
              " 'updatedRange': \"'Espécies de aves por estado do Brasil'!A1:C22366\",\n",
              " 'updatedRows': 22366,\n",
              " 'updatedColumns': 3,\n",
              " 'updatedCells': 67098}"
            ]
          },
          "metadata": {},
          "execution_count": 119
        }
      ]
    }
  ]
}